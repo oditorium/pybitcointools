{
 "cells": [
  {
   "cell_type": "markdown",
   "metadata": {},
   "source": [
    "# Full Example\n",
    "usage examples of the main functions"
   ]
  },
  {
   "cell_type": "code",
   "execution_count": 1,
   "metadata": {
    "collapsed": true
   },
   "outputs": [],
   "source": [
    "import bitcoin as bc\n",
    "import json"
   ]
  },
  {
   "cell_type": "markdown",
   "metadata": {},
   "source": [
    "## Key generation and conversion\n",
    "- privkey_to_pubkey : (privkey) -> pubkey\n",
    "- privtopub : (privkey) -> pubkey\n",
    "- pubkey_to_address : (pubkey) -> address\n",
    "- pubtoaddr : (pubkey) -> address\n",
    "- privkey_to_address : (privkey) -> address\n",
    "- privtoaddr : (privkey) -> address"
   ]
  },
  {
   "cell_type": "markdown",
   "metadata": {},
   "source": [
    "### Generate a private key\n",
    "generates a private key from a pass phrase"
   ]
  },
  {
   "cell_type": "code",
   "execution_count": 2,
   "metadata": {
    "collapsed": false
   },
   "outputs": [
    {
     "data": {
      "text/plain": [
       "'57c617d9b4e1f7af6ec97ca2ff57e94a28279a7eedd4d12a99fa11170e94f5a4'"
      ]
     },
     "execution_count": 2,
     "metadata": {},
     "output_type": "execute_result"
    }
   ],
   "source": [
    "priv = bc.sha256('some big long brainwallet password')\n",
    "priv"
   ]
  },
  {
   "cell_type": "markdown",
   "metadata": {},
   "source": [
    "### random_key\n",
    "generate a random private key"
   ]
  },
  {
   "cell_type": "code",
   "execution_count": 3,
   "metadata": {
    "collapsed": false
   },
   "outputs": [
    {
     "data": {
      "text/plain": [
       "'1a704172b2f04fe7398620f3c2af0951d8d763189aa4f9a1f76f1e19399d0067'"
      ]
     },
     "execution_count": 3,
     "metadata": {},
     "output_type": "execute_result"
    }
   ],
   "source": [
    "priv1 = bc.random_key()\n",
    "priv1"
   ]
  },
  {
   "cell_type": "markdown",
   "metadata": {},
   "source": [
    "### privkey_to_pubkey / privtopub\n",
    "generate a public key corresponding to a private key"
   ]
  },
  {
   "cell_type": "code",
   "execution_count": 4,
   "metadata": {
    "collapsed": false
   },
   "outputs": [
    {
     "data": {
      "text/plain": [
       "('0420f34c2786b4bae593e22596631b025f3ff46e200fc1d4b52ef49bbdc2ed00b26c584b7e32523fb01be2294a1f8a5eb0cf71a203cc034ced46ea92a8df16c6e9',\n",
       " True)"
      ]
     },
     "execution_count": 4,
     "metadata": {},
     "output_type": "execute_result"
    }
   ],
   "source": [
    "pub = bc.privkey_to_pubkey(priv)\n",
    "pub1 = bc.privtopub(priv)\n",
    "pub, pub==pub1"
   ]
  },
  {
   "cell_type": "markdown",
   "metadata": {},
   "source": [
    "### pubkey_to_address / pubtoaddr\n",
    "generate an address corresponding to a public key"
   ]
  },
  {
   "cell_type": "code",
   "execution_count": 5,
   "metadata": {
    "collapsed": false
   },
   "outputs": [
    {
     "data": {
      "text/plain": [
       "('1CQLd3bhw4EzaURHbKCwM5YZbUQfA4ReY6', True)"
      ]
     },
     "execution_count": 5,
     "metadata": {},
     "output_type": "execute_result"
    }
   ],
   "source": [
    "addr = bc.pubkey_to_address(pub)\n",
    "addr1 = bc.pubtoaddr(pub)\n",
    "addr, addr==addr1"
   ]
  },
  {
   "cell_type": "markdown",
   "metadata": {},
   "source": [
    "### privkey_to_address / privtoaddr\n",
    "generate an address corresponding to a private key"
   ]
  },
  {
   "cell_type": "code",
   "execution_count": 6,
   "metadata": {
    "collapsed": false
   },
   "outputs": [
    {
     "data": {
      "text/plain": [
       "('1CQLd3bhw4EzaURHbKCwM5YZbUQfA4ReY6', True, True)"
      ]
     },
     "execution_count": 6,
     "metadata": {},
     "output_type": "execute_result"
    }
   ],
   "source": [
    "addrp = bc.privkey_to_address(priv)\n",
    "addrp1 = bc.privtoaddr(priv)\n",
    "addrp, addrp==addrp1, addrp==addr"
   ]
  },
  {
   "cell_type": "markdown",
   "metadata": {},
   "source": [
    "## Key arithmetic\n",
    "- add : (key1, key2) -> key1 + key2 (works on privkeys or pubkeys) -- added\n",
    "- subtract : (key1, key2) -> key1 - key2 (works on privkeys or pubkeys) -- added\n",
    "- multiply : (pubkey, privkey) -> pubkey * privkey\n",
    "- divide : (pubkey, privkey) -> pubkey / privkey\n"
   ]
  },
  {
   "cell_type": "markdown",
   "metadata": {},
   "source": [
    "### add\n",
    "adds two private keys, or two public keys"
   ]
  },
  {
   "cell_type": "code",
   "execution_count": 7,
   "metadata": {
    "collapsed": false
   },
   "outputs": [
    {
     "data": {
      "text/plain": [
       "'7236594c67d24796a84f9d96c206f29c00fefd978879cacc91692f304831f60b'"
      ]
     },
     "execution_count": 7,
     "metadata": {},
     "output_type": "execute_result"
    }
   ],
   "source": [
    "bc.add(priv, priv1)"
   ]
  },
  {
   "cell_type": "code",
   "execution_count": 8,
   "metadata": {
    "collapsed": false
   },
   "outputs": [
    {
     "data": {
      "text/plain": [
       "'04549c2287e479fddc01526a794932d91ae9eb0c06d328a641f3015890c159ccc6cb80bee86211d20bd997d2b122c947fb8dd3c3c8ed91378ef15bedbec506128e'"
      ]
     },
     "execution_count": 8,
     "metadata": {},
     "output_type": "execute_result"
    }
   ],
   "source": [
    "bc.add(pub, pub1)"
   ]
  },
  {
   "cell_type": "markdown",
   "metadata": {},
   "source": [
    "### subtract\n",
    "subtracts two private keys, or two public keys"
   ]
  },
  {
   "cell_type": "code",
   "execution_count": 9,
   "metadata": {
    "collapsed": false
   },
   "outputs": [
    {
     "data": {
      "text/plain": [
       "'3d55d66701f1a7c835435baf3ca8dff84f503766532fd788a28af2fdd4f7f53d'"
      ]
     },
     "execution_count": 9,
     "metadata": {},
     "output_type": "execute_result"
    }
   ],
   "source": [
    "bc.subtract(priv, priv1)"
   ]
  },
  {
   "cell_type": "code",
   "execution_count": 10,
   "metadata": {
    "collapsed": false
   },
   "outputs": [
    {
     "data": {
      "text/plain": [
       "'0400000000000000000000000000000000000000000000000000000000000000000000000000000000000000000000000000000000000000000000000000000000'"
      ]
     },
     "execution_count": 10,
     "metadata": {},
     "output_type": "execute_result"
    }
   ],
   "source": [
    "bc.subtract(pub, pub)"
   ]
  },
  {
   "cell_type": "code",
   "execution_count": 11,
   "metadata": {
    "collapsed": false
   },
   "outputs": [
    {
     "data": {
      "text/plain": [
       "'0000000000000000000000000000000000000000000000000000000000000000'"
      ]
     },
     "execution_count": 11,
     "metadata": {},
     "output_type": "execute_result"
    }
   ],
   "source": [
    "bc.subtract(priv, priv)"
   ]
  },
  {
   "cell_type": "code",
   "execution_count": 12,
   "metadata": {
    "collapsed": false
   },
   "outputs": [
    {
     "data": {
      "text/plain": [
       "('1a704172b2f04fe7398620f3c2af0951d8d763189aa4f9a1f76f1e19399d0067',\n",
       " '1a704172b2f04fe7398620f3c2af0951d8d763189aa4f9a1f76f1e19399d0067')"
      ]
     },
     "execution_count": 12,
     "metadata": {},
     "output_type": "execute_result"
    }
   ],
   "source": [
    "bc.subtract( bc.add(priv, priv1), priv), priv1"
   ]
  },
  {
   "cell_type": "markdown",
   "metadata": {},
   "source": [
    "### multiply\n",
    "multiplies a public and a private key"
   ]
  },
  {
   "cell_type": "code",
   "execution_count": 13,
   "metadata": {
    "collapsed": false
   },
   "outputs": [
    {
     "data": {
      "text/plain": [
       "'04bb60231c9803f096f808e3d511d8883a17eb176c09f095030fcae0d728800e835fb89aa0ae6b4e79f1cb6ba16bc45095fa284eac3435ab142ffee01a3acf5aff'"
      ]
     },
     "execution_count": 13,
     "metadata": {},
     "output_type": "execute_result"
    }
   ],
   "source": [
    "bc.multiply(pub, priv)"
   ]
  },
  {
   "cell_type": "markdown",
   "metadata": {},
   "source": [
    "### divide\n",
    "divides a public key by a private key"
   ]
  },
  {
   "cell_type": "code",
   "execution_count": 14,
   "metadata": {
    "collapsed": false
   },
   "outputs": [
    {
     "data": {
      "text/plain": [
       "'0479be667ef9dcbbac55a06295ce870b07029bfcdb2dce28d959f2815b16f81798483ada7726a3c4655da4fbfc0e1108a8fd17b448a68554199c47d08ffb10d4b8'"
      ]
     },
     "execution_count": 14,
     "metadata": {},
     "output_type": "execute_result"
    }
   ],
   "source": [
    "bc.divide(pub, priv)"
   ]
  },
  {
   "cell_type": "markdown",
   "metadata": {},
   "source": [
    "## Transactions\n",
    "- history : (address1, address2, etc) -> outputs to those addresses\n",
    "- mktx : (inputs, outputs) -> tx\n",
    "- mksend : (inputs, outputs, change_addr, fee) -> tx\n",
    "- sign : (tx, i, privkey) -> tx with index i signed with privkey\n",
    "- multisign : (tx, i, script, privkey) -> signature -- TODO\n",
    "- apply_multisignatures: (tx, i, script, sigs) -> tx with index i signed with sigs -- TODO\n",
    "- deserialize : (hex or bin transaction) -> JSON tx\n",
    "- serialize : (JSON tx) -> hex or bin tx\n",
    "- verify_tx_input : (tx, i, script, sig, pub) -> True/False -- TODO\n",
    "- txhash : (hex or bin tx) -> hash"
   ]
  },
  {
   "cell_type": "markdown",
   "metadata": {},
   "source": [
    "### history\n",
    "retrieve historic transaction for set of addresses\n",
    "(required to create a transaction!)"
   ]
  },
  {
   "cell_type": "code",
   "execution_count": 15,
   "metadata": {
    "collapsed": false
   },
   "outputs": [
    {
     "data": {
      "text/plain": [
       "[{'address': '1CQLd3bhw4EzaURHbKCwM5YZbUQfA4ReY6',\n",
       "  'block_height': 363957,\n",
       "  'output': 'b0aad2e5184099b20d53100a678e9bec2eab1b0710fb06930f333387492a82b3:0',\n",
       "  'spend': '05551814576ba084a0736abd8df411061c5ea7e4ae72d334317f5504f6b331d6:0',\n",
       "  'value': 500000},\n",
       " {'address': '1CQLd3bhw4EzaURHbKCwM5YZbUQfA4ReY6',\n",
       "  'block_height': 262537,\n",
       "  'output': '97f7c7d8ac85e40c255f8a763b6cd9a68f3a94d2e93e8bfa08f977b92e55465e:0',\n",
       "  'spend': '772bebdf445d719d90d52a3029d27e90aa8f26eca8d431fc77cc487c377a89c4:0',\n",
       "  'value': 50000},\n",
       " {'address': '1CQLd3bhw4EzaURHbKCwM5YZbUQfA4ReY6',\n",
       "  'block_height': 262537,\n",
       "  'output': '4cc806bb04f730c445c60b3e0f4f44b54769a1c196ca37d8d4002135e4abd171:1',\n",
       "  'spend': '772bebdf445d719d90d52a3029d27e90aa8f26eca8d431fc77cc487c377a89c4:1',\n",
       "  'value': 50000}]"
      ]
     },
     "execution_count": 15,
     "metadata": {},
     "output_type": "execute_result"
    }
   ],
   "source": [
    "hist = bc.history(addr)\n",
    "hist"
   ]
  },
  {
   "cell_type": "markdown",
   "metadata": {},
   "source": [
    "### mktx"
   ]
  },
  {
   "cell_type": "code",
   "execution_count": 16,
   "metadata": {
    "collapsed": false
   },
   "outputs": [
    {
     "data": {
      "text/plain": [
       "'0100000003b3822a498733330f9306fb10071bab2eec9b8e670a10530db2994018e5d2aab00000000000ffffffff5e46552eb977f908fa8b3ee9d2943a8fa6d96c3b768a5f250ce485acd8c7f7970000000000ffffffff71d1abe4352100d4d837ca96c1a16947b5444f0f3e0bc645c430f704bb06c84c0100000000ffffffff01905f0100000000001976a9143ec6c3ed8dfc3ceabcc1cbdb0c5aef4e2d02873c88ac00000000'"
      ]
     },
     "execution_count": 16,
     "metadata": {},
     "output_type": "execute_result"
    }
   ],
   "source": [
    "outs = [{'value': 90000, 'address': '16iw1MQ1sy1DtRPYw3ao1bCamoyBJtRB4t'}]\n",
    "tx = bc.mktx(hist, outs)\n",
    "tx"
   ]
  },
  {
   "cell_type": "markdown",
   "metadata": {},
   "source": [
    "### txhash"
   ]
  },
  {
   "cell_type": "code",
   "execution_count": 17,
   "metadata": {
    "collapsed": false
   },
   "outputs": [
    {
     "data": {
      "text/plain": [
       "'866303e1513eeb52efa0b4375c340c1a5dc5c3bdde7dcddaa96f70d086bdbe8a'"
      ]
     },
     "execution_count": 17,
     "metadata": {},
     "output_type": "execute_result"
    }
   ],
   "source": [
    "bc.txhash(tx)"
   ]
  },
  {
   "cell_type": "markdown",
   "metadata": {},
   "source": [
    "### deserialize / serialize"
   ]
  },
  {
   "cell_type": "code",
   "execution_count": 18,
   "metadata": {
    "collapsed": false
   },
   "outputs": [
    {
     "data": {
      "text/plain": [
       "{'ins': [{'outpoint': {'hash': 'b0aad2e5184099b20d53100a678e9bec2eab1b0710fb06930f333387492a82b3',\n",
       "    'index': 0},\n",
       "   'script': '',\n",
       "   'sequence': 4294967295},\n",
       "  {'outpoint': {'hash': '97f7c7d8ac85e40c255f8a763b6cd9a68f3a94d2e93e8bfa08f977b92e55465e',\n",
       "    'index': 0},\n",
       "   'script': '',\n",
       "   'sequence': 4294967295},\n",
       "  {'outpoint': {'hash': '4cc806bb04f730c445c60b3e0f4f44b54769a1c196ca37d8d4002135e4abd171',\n",
       "    'index': 1},\n",
       "   'script': '',\n",
       "   'sequence': 4294967295}],\n",
       " 'locktime': 0,\n",
       " 'outs': [{'script': '76a9143ec6c3ed8dfc3ceabcc1cbdb0c5aef4e2d02873c88ac',\n",
       "   'value': 90000}],\n",
       " 'version': 1}"
      ]
     },
     "execution_count": 18,
     "metadata": {},
     "output_type": "execute_result"
    }
   ],
   "source": [
    "txjs = bc.deserialize(tx)\n",
    "txjs"
   ]
  },
  {
   "cell_type": "code",
   "execution_count": 19,
   "metadata": {
    "collapsed": false
   },
   "outputs": [
    {
     "data": {
      "text/plain": [
       "('0100000003b3822a498733330f9306fb10071bab2eec9b8e670a10530db2994018e5d2aab00000000000ffffffff5e46552eb977f908fa8b3ee9d2943a8fa6d96c3b768a5f250ce485acd8c7f7970000000000ffffffff71d1abe4352100d4d837ca96c1a16947b5444f0f3e0bc645c430f704bb06c84c0100000000ffffffff01905f0100000000001976a9143ec6c3ed8dfc3ceabcc1cbdb0c5aef4e2d02873c88ac00000000',\n",
       " True)"
      ]
     },
     "execution_count": 19,
     "metadata": {},
     "output_type": "execute_result"
    }
   ],
   "source": [
    "tx1 = bc.serialize(txjs)\n",
    "tx1, tx1 == tx"
   ]
  },
  {
   "cell_type": "markdown",
   "metadata": {
    "collapsed": true
   },
   "source": [
    "### mksend"
   ]
  },
  {
   "cell_type": "markdown",
   "metadata": {},
   "source": [
    "### sign"
   ]
  },
  {
   "cell_type": "code",
   "execution_count": 20,
   "metadata": {
    "collapsed": false
   },
   "outputs": [
    {
     "data": {
      "text/plain": [
       "'0100000003b3822a498733330f9306fb10071bab2eec9b8e670a10530db2994018e5d2aab0000000008b483045022100c8c192a17b14e4a494493c1eb5ea1156a1655473c02a0a684a264b8e1b0dd85d02200db310efcbb86e51051fb6ca0465caf420ef631c132ae76a14d2edff18455a7f01410420f34c2786b4bae593e22596631b025f3ff46e200fc1d4b52ef49bbdc2ed00b26c584b7e32523fb01be2294a1f8a5eb0cf71a203cc034ced46ea92a8df16c6e9ffffffff5e46552eb977f908fa8b3ee9d2943a8fa6d96c3b768a5f250ce485acd8c7f7970000000000ffffffff71d1abe4352100d4d837ca96c1a16947b5444f0f3e0bc645c430f704bb06c84c0100000000ffffffff01905f0100000000001976a9143ec6c3ed8dfc3ceabcc1cbdb0c5aef4e2d02873c88ac00000000'"
      ]
     },
     "execution_count": 20,
     "metadata": {},
     "output_type": "execute_result"
    }
   ],
   "source": [
    "txs0 = bc.sign(tx, 0, priv)\n",
    "txs0"
   ]
  },
  {
   "cell_type": "code",
   "execution_count": 21,
   "metadata": {
    "collapsed": false
   },
   "outputs": [
    {
     "data": {
      "text/plain": [
       "'0100000003b3822a498733330f9306fb10071bab2eec9b8e670a10530db2994018e5d2aab0000000008b483045022100c8c192a17b14e4a494493c1eb5ea1156a1655473c02a0a684a264b8e1b0dd85d02200db310efcbb86e51051fb6ca0465caf420ef631c132ae76a14d2edff18455a7f01410420f34c2786b4bae593e22596631b025f3ff46e200fc1d4b52ef49bbdc2ed00b26c584b7e32523fb01be2294a1f8a5eb0cf71a203cc034ced46ea92a8df16c6e9ffffffff5e46552eb977f908fa8b3ee9d2943a8fa6d96c3b768a5f250ce485acd8c7f797000000008a4730440220147bb7308dd8c9376e5ea039610432dc0799c6b5040b7f2e9211c85b9dc367820220753098a46b6ffc52d7e2ad9fa06ddea320574faed4f4bc0e93c5fc8a31ab0d5a01410420f34c2786b4bae593e22596631b025f3ff46e200fc1d4b52ef49bbdc2ed00b26c584b7e32523fb01be2294a1f8a5eb0cf71a203cc034ced46ea92a8df16c6e9ffffffff71d1abe4352100d4d837ca96c1a16947b5444f0f3e0bc645c430f704bb06c84c0100000000ffffffff01905f0100000000001976a9143ec6c3ed8dfc3ceabcc1cbdb0c5aef4e2d02873c88ac00000000'"
      ]
     },
     "execution_count": 21,
     "metadata": {},
     "output_type": "execute_result"
    }
   ],
   "source": [
    "txs1 = bc.sign(txs0, 1, priv)\n",
    "txs1"
   ]
  },
  {
   "cell_type": "code",
   "execution_count": 22,
   "metadata": {
    "collapsed": false
   },
   "outputs": [
    {
     "data": {
      "text/plain": [
       "{'ins': [{'outpoint': {'hash': 'b0aad2e5184099b20d53100a678e9bec2eab1b0710fb06930f333387492a82b3',\n",
       "    'index': 0},\n",
       "   'script': '483045022100c8c192a17b14e4a494493c1eb5ea1156a1655473c02a0a684a264b8e1b0dd85d02200db310efcbb86e51051fb6ca0465caf420ef631c132ae76a14d2edff18455a7f01410420f34c2786b4bae593e22596631b025f3ff46e200fc1d4b52ef49bbdc2ed00b26c584b7e32523fb01be2294a1f8a5eb0cf71a203cc034ced46ea92a8df16c6e9',\n",
       "   'sequence': 4294967295},\n",
       "  {'outpoint': {'hash': '97f7c7d8ac85e40c255f8a763b6cd9a68f3a94d2e93e8bfa08f977b92e55465e',\n",
       "    'index': 0},\n",
       "   'script': '',\n",
       "   'sequence': 4294967295},\n",
       "  {'outpoint': {'hash': '4cc806bb04f730c445c60b3e0f4f44b54769a1c196ca37d8d4002135e4abd171',\n",
       "    'index': 1},\n",
       "   'script': '',\n",
       "   'sequence': 4294967295}],\n",
       " 'locktime': 0,\n",
       " 'outs': [{'script': '76a9143ec6c3ed8dfc3ceabcc1cbdb0c5aef4e2d02873c88ac',\n",
       "   'value': 90000}],\n",
       " 'version': 1}"
      ]
     },
     "execution_count": 22,
     "metadata": {},
     "output_type": "execute_result"
    }
   ],
   "source": [
    "txs0js = bc.deserialize(txs0)\n",
    "txs0js"
   ]
  },
  {
   "cell_type": "code",
   "execution_count": 23,
   "metadata": {
    "collapsed": false
   },
   "outputs": [
    {
     "data": {
      "text/plain": [
       "{'ins': [{'outpoint': {'hash': 'b0aad2e5184099b20d53100a678e9bec2eab1b0710fb06930f333387492a82b3',\n",
       "    'index': 0},\n",
       "   'script': '483045022100c8c192a17b14e4a494493c1eb5ea1156a1655473c02a0a684a264b8e1b0dd85d02200db310efcbb86e51051fb6ca0465caf420ef631c132ae76a14d2edff18455a7f01410420f34c2786b4bae593e22596631b025f3ff46e200fc1d4b52ef49bbdc2ed00b26c584b7e32523fb01be2294a1f8a5eb0cf71a203cc034ced46ea92a8df16c6e9',\n",
       "   'sequence': 4294967295},\n",
       "  {'outpoint': {'hash': '97f7c7d8ac85e40c255f8a763b6cd9a68f3a94d2e93e8bfa08f977b92e55465e',\n",
       "    'index': 0},\n",
       "   'script': '4730440220147bb7308dd8c9376e5ea039610432dc0799c6b5040b7f2e9211c85b9dc367820220753098a46b6ffc52d7e2ad9fa06ddea320574faed4f4bc0e93c5fc8a31ab0d5a01410420f34c2786b4bae593e22596631b025f3ff46e200fc1d4b52ef49bbdc2ed00b26c584b7e32523fb01be2294a1f8a5eb0cf71a203cc034ced46ea92a8df16c6e9',\n",
       "   'sequence': 4294967295},\n",
       "  {'outpoint': {'hash': '4cc806bb04f730c445c60b3e0f4f44b54769a1c196ca37d8d4002135e4abd171',\n",
       "    'index': 1},\n",
       "   'script': '',\n",
       "   'sequence': 4294967295}],\n",
       " 'locktime': 0,\n",
       " 'outs': [{'script': '76a9143ec6c3ed8dfc3ceabcc1cbdb0c5aef4e2d02873c88ac',\n",
       "   'value': 90000}],\n",
       " 'version': 1}"
      ]
     },
     "execution_count": 23,
     "metadata": {},
     "output_type": "execute_result"
    }
   ],
   "source": [
    "txs1js = bc.deserialize(txs1)\n",
    "txs1js"
   ]
  },
  {
   "cell_type": "markdown",
   "metadata": {
    "collapsed": true
   },
   "source": [
    "### multisign\n",
    "TODO"
   ]
  },
  {
   "cell_type": "markdown",
   "metadata": {
    "collapsed": true
   },
   "source": [
    "### apply_multisignatures\n",
    "TODO"
   ]
  },
  {
   "cell_type": "markdown",
   "metadata": {},
   "source": [
    "## ECDSA\n",
    "- ecdsa_sign : (message, privkey) -> sig\n",
    "- ecdsa_verify : (message, sig, pubkey) -> True/False\n",
    "- ecdsa_recover : (message, sig) -> pubkey"
   ]
  },
  {
   "cell_type": "markdown",
   "metadata": {},
   "source": [
    "### ecdsa_sign\n",
    "creates the signature of an arbitrary (string) message"
   ]
  },
  {
   "cell_type": "code",
   "execution_count": 24,
   "metadata": {
    "collapsed": false
   },
   "outputs": [
    {
     "data": {
      "text/plain": [
       "'G8z1EwkXvqdCrqNlto3vVLrBsnATpXlWp8GFri3VzwnPZOci4UFjLTGhJpOd2NpaTQYAQkTQBMmqb1C0gMB5EeY='"
      ]
     },
     "execution_count": 24,
     "metadata": {},
     "output_type": "execute_result"
    }
   ],
   "source": [
    "message = \"Hello World\"\n",
    "sig = bc.ecdsa_sign(message, priv)\n",
    "sig"
   ]
  },
  {
   "cell_type": "markdown",
   "metadata": {},
   "source": [
    "### ecdsa_verify"
   ]
  },
  {
   "cell_type": "code",
   "execution_count": 25,
   "metadata": {
    "collapsed": false
   },
   "outputs": [
    {
     "data": {
      "text/plain": [
       "True"
      ]
     },
     "execution_count": 25,
     "metadata": {},
     "output_type": "execute_result"
    }
   ],
   "source": [
    "bc.ecdsa_verify(message, sig, pub)"
   ]
  },
  {
   "cell_type": "code",
   "execution_count": 26,
   "metadata": {
    "collapsed": false
   },
   "outputs": [
    {
     "data": {
      "text/plain": [
       "False"
      ]
     },
     "execution_count": 26,
     "metadata": {},
     "output_type": "execute_result"
    }
   ],
   "source": [
    "bc.ecdsa_verify(message[1:], sig, pub)"
   ]
  },
  {
   "cell_type": "markdown",
   "metadata": {},
   "source": [
    "### ecdsa_recover"
   ]
  },
  {
   "cell_type": "code",
   "execution_count": 27,
   "metadata": {
    "collapsed": false
   },
   "outputs": [
    {
     "data": {
      "text/plain": [
       "('0420f34c2786b4bae593e22596631b025f3ff46e200fc1d4b52ef49bbdc2ed00b26c584b7e32523fb01be2294a1f8a5eb0cf71a203cc034ced46ea92a8df16c6e9',\n",
       " True)"
      ]
     },
     "execution_count": 27,
     "metadata": {},
     "output_type": "execute_result"
    }
   ],
   "source": [
    "pubrec = bc.ecdsa_recover(message, sig)\n",
    "pubrec, pubrec==pub"
   ]
  },
  {
   "cell_type": "markdown",
   "metadata": {},
   "source": [
    "## Electrum\n",
    "- random_electrum_seed : () -> electrum seed*\n",
    "- electrum_stretch : (seed) -> secret exponent\n",
    "- electrum_privkey : (seed or secret exponent, i, type) -> privkey\n",
    "- electrum_mpk : (seed or secret exponent) -> master public key\n",
    "- electrum_pubkey : (seed or secexp or mpk) -> pubkey\n",
    "\n",
    "*modified to address the error that happens under Python 3"
   ]
  },
  {
   "cell_type": "markdown",
   "metadata": {},
   "source": [
    "### random_electrum_seed"
   ]
  },
  {
   "cell_type": "code",
   "execution_count": 28,
   "metadata": {
    "collapsed": false
   },
   "outputs": [
    {
     "data": {
      "text/plain": [
       "'87ab6740c5e1b22e5a7b5959e1f07c46'"
      ]
     },
     "execution_count": 28,
     "metadata": {},
     "output_type": "execute_result"
    }
   ],
   "source": [
    "eseed = bc.random_electrum_seed() # modified to address the error under Python 3\n",
    "eseed"
   ]
  },
  {
   "cell_type": "code",
   "execution_count": 29,
   "metadata": {
    "collapsed": true
   },
   "outputs": [],
   "source": [
    "eseed = bc.sha256(\"my random seed seed\")"
   ]
  },
  {
   "cell_type": "markdown",
   "metadata": {},
   "source": [
    "### electrum_stretch"
   ]
  },
  {
   "cell_type": "code",
   "execution_count": 30,
   "metadata": {
    "collapsed": false
   },
   "outputs": [
    {
     "data": {
      "text/plain": [
       "'d325c092a42586859289d756ebaa760013a90615f66ec080f07889fa20adc18d'"
      ]
     },
     "execution_count": 30,
     "metadata": {},
     "output_type": "execute_result"
    }
   ],
   "source": [
    "eexp = bc.electrum_stretch(eseed)\n",
    "eexp"
   ]
  },
  {
   "cell_type": "markdown",
   "metadata": {},
   "source": [
    "### electrum_privkey"
   ]
  },
  {
   "cell_type": "code",
   "execution_count": 31,
   "metadata": {
    "collapsed": false
   },
   "outputs": [
    {
     "data": {
      "text/plain": [
       "'8ab4afe7c96287d2fd933f54bad836a363e3dbc4b4de928d0ac8ef6cef1d9887'"
      ]
     },
     "execution_count": 31,
     "metadata": {},
     "output_type": "execute_result"
    }
   ],
   "source": [
    "bc.electrum_privkey(eexp, 0, \"mytype\")"
   ]
  },
  {
   "cell_type": "markdown",
   "metadata": {},
   "source": [
    "### electrum_mpk\n",
    "generate the master public key"
   ]
  },
  {
   "cell_type": "code",
   "execution_count": 32,
   "metadata": {
    "collapsed": false
   },
   "outputs": [
    {
     "data": {
      "text/plain": [
       "'92e6d7847036525cfeead5b03f8e8440c501383181282279b28bb0b6378cbadfda7529d3641e4ad476125529626a966d764cb2d1e8a9edcc9a2aacafc93ce72c'"
      ]
     },
     "execution_count": 32,
     "metadata": {},
     "output_type": "execute_result"
    }
   ],
   "source": [
    "empk = bc.electrum_mpk(eexp)\n",
    "empk"
   ]
  },
  {
   "cell_type": "markdown",
   "metadata": {},
   "source": [
    "### electrum_pubkey"
   ]
  },
  {
   "cell_type": "code",
   "execution_count": 33,
   "metadata": {
    "collapsed": false
   },
   "outputs": [
    {
     "data": {
      "text/plain": [
       "'04dcb104a72364332233ee0748257c7ff425a5e11e80634177340b7870ce70852b3e8d4299b857a8e57b8761f07f9bceb36cd982785047153ee6ada4f28da104c7'"
      ]
     },
     "execution_count": 33,
     "metadata": {},
     "output_type": "execute_result"
    }
   ],
   "source": [
    "epk = bc.electrum_pubkey(eexp, 0, \"mytype\")\n",
    "epk"
   ]
  },
  {
   "cell_type": "code",
   "execution_count": 34,
   "metadata": {
    "collapsed": false
   },
   "outputs": [
    {
     "data": {
      "text/plain": [
       "('04dcb104a72364332233ee0748257c7ff425a5e11e80634177340b7870ce70852b3e8d4299b857a8e57b8761f07f9bceb36cd982785047153ee6ada4f28da104c7',\n",
       " True)"
      ]
     },
     "execution_count": 34,
     "metadata": {},
     "output_type": "execute_result"
    }
   ],
   "source": [
    "epk1 = bc.electrum_pubkey(empk, 0, \"mytype\")\n",
    "epk1, epk==epk1"
   ]
  },
  {
   "cell_type": "markdown",
   "metadata": {},
   "source": [
    "## BIP32\n",
    "- bip32_master_key : (seed) -> bip32 master key\n",
    "- bip32_ckd : (private or public bip32 key, i) -> child key\n",
    "- bip32_privtopub : (private bip32 key) -> public bip32 key\n",
    "- bip32_extract_key : (private or public bip32_key) -> privkey or pubkey"
   ]
  },
  {
   "cell_type": "markdown",
   "metadata": {},
   "source": [
    "### bip32_master_key\n",
    "create a master key from a seed string"
   ]
  },
  {
   "cell_type": "code",
   "execution_count": 35,
   "metadata": {
    "collapsed": false
   },
   "outputs": [
    {
     "data": {
      "text/plain": [
       "'xprv9s21ZrQH143K43V93dhwXpDL43ZAEKiAF5ttsA3VxCdr12neozev1kWVcQAPzuPiBiZnkBXqHbkXmXTB9geBmZWyph3nscuLJa1jcqtwGrA'"
      ]
     },
     "execution_count": 35,
     "metadata": {},
     "output_type": "execute_result"
    }
   ],
   "source": [
    "b32priv = bc.bip32_master_key(\"my seed string\")\n",
    "b32priv"
   ]
  },
  {
   "cell_type": "markdown",
   "metadata": {},
   "source": [
    "### bip32_privtopub"
   ]
  },
  {
   "cell_type": "code",
   "execution_count": 36,
   "metadata": {
    "collapsed": false
   },
   "outputs": [
    {
     "data": {
      "text/plain": [
       "'xpub661MyMwAqRbcGXZc9fEwtxA4c5PednS1cJpVfYT7WYApsq7oMXyAZYpyTiXVmsLRFbqwezvBFwEDuHzpL3wPwgtLKpAqivWmT1uacY17RbA'"
      ]
     },
     "execution_count": 36,
     "metadata": {},
     "output_type": "execute_result"
    }
   ],
   "source": [
    "b32pub = bc.bip32_privtopub(b32priv)\n",
    "b32pub"
   ]
  },
  {
   "cell_type": "markdown",
   "metadata": {},
   "source": [
    "### bip32_ckd\n",
    "generates child (public or private) keys"
   ]
  },
  {
   "cell_type": "code",
   "execution_count": 37,
   "metadata": {
    "collapsed": false
   },
   "outputs": [
    {
     "data": {
      "text/plain": [
       "('xprv9u5BfJpMV433AZGUyBDULTsqYQqXa4GncgwPo32XTBDTHFGuqk9HhtsnnX9UCsGnEuYSjgA8keFvxRpNao1Rr63qwYSZWnrrBA8UUFhMZBu',\n",
       " False)"
      ]
     },
     "execution_count": 37,
     "metadata": {},
     "output_type": "execute_result"
    }
   ],
   "source": [
    "b32priv0 = bc.bip32_ckd(b32priv, 0)\n",
    "b32priv0, b32priv0==b32priv"
   ]
  },
  {
   "cell_type": "code",
   "execution_count": 38,
   "metadata": {
    "collapsed": false
   },
   "outputs": [
    {
     "data": {
      "text/plain": [
       "('xprv9u5BfJpMV433CyknKMqy4tEZgWvq7emnYkh73ubVHPSh6YFKMXxpAFRwiq5ZaFFAt5zDnqDHitQrcnrxu6mmXycvHNZkuZpZLGrnVXBfdR3',\n",
       " False)"
      ]
     },
     "execution_count": 38,
     "metadata": {},
     "output_type": "execute_result"
    }
   ],
   "source": [
    "b32priv1 = bc.bip32_ckd(b32priv, 1)\n",
    "b32priv1, b32priv1==b32priv0"
   ]
  },
  {
   "cell_type": "code",
   "execution_count": 39,
   "metadata": {
    "collapsed": false
   },
   "outputs": [
    {
     "data": {
      "text/plain": [
       "('xpub684Y4pMFKRbLP3Lx5CkUhbpa6Sg1yWzdyurzbRS91WkSA3c4PHTYFhCGdmJ4AgKfuw36HNGQypYut92wDf3cpqJG75YTnyfFvo9hHT3GLJ6',\n",
       " False)"
      ]
     },
     "execution_count": 39,
     "metadata": {},
     "output_type": "execute_result"
    }
   ],
   "source": [
    "b32pub0 = bc.bip32_ckd(b32pub, 0)\n",
    "b32pub0, b32pub0==b32pub"
   ]
  },
  {
   "cell_type": "code",
   "execution_count": 40,
   "metadata": {
    "collapsed": false
   },
   "outputs": [
    {
     "data": {
      "text/plain": [
       "('xpub684Y4pMFKRbLRTqFRPNyS2BJEYmKX7VduychrJ16qiyfyLaTu5H4i3kRa83U9eYpSXiY7ABxjTsnLfAQWWFTSwvhhotANeMX4ovYtsFaqmD',\n",
       " False)"
      ]
     },
     "execution_count": 40,
     "metadata": {},
     "output_type": "execute_result"
    }
   ],
   "source": [
    "b32pub1 = bc.bip32_ckd(b32pub, 1)\n",
    "b32pub1, b32pub0==b32pub1"
   ]
  },
  {
   "cell_type": "markdown",
   "metadata": {},
   "source": [
    "### bip32_extract_key\n",
    "extracts the actual key from a bip32 key string (private or public)"
   ]
  },
  {
   "cell_type": "code",
   "execution_count": 41,
   "metadata": {
    "collapsed": false
   },
   "outputs": [
    {
     "data": {
      "text/plain": [
       "'03d3b268c38a553f54d68718086c5b1ef65728b94ba64c81f80aae158b3a8582ad'"
      ]
     },
     "execution_count": 41,
     "metadata": {},
     "output_type": "execute_result"
    }
   ],
   "source": [
    "b32pubx = bc.bip32_extract_key(b32pub)\n",
    "b32pubx"
   ]
  },
  {
   "cell_type": "code",
   "execution_count": 42,
   "metadata": {
    "collapsed": false
   },
   "outputs": [
    {
     "data": {
      "text/plain": [
       "'1cb5be1663b14120215e73ba0464080f1ddb1390eeba993a76fa60e640c00e5201'"
      ]
     },
     "execution_count": 42,
     "metadata": {},
     "output_type": "execute_result"
    }
   ],
   "source": [
    "b32privx = bc.bip32_extract_key(b32priv)\n",
    "b32privx"
   ]
  },
  {
   "cell_type": "markdown",
   "metadata": {},
   "source": [
    "## Other\n",
    "- apply_multisignatures: (tx, i, script, sigs) -> tx with index i signed with sigs\n",
    "- scriptaddr : (script) -> P2SH address\n",
    "- mk_multisig_script : (pubkeys, k, n) -> k-of-n multisig script from pubkeys\n",
    "\n"
   ]
  },
  {
   "cell_type": "markdown",
   "metadata": {},
   "source": [
    "## Chain interaction\n",
    "- history : (address1, address2, etc) -> outputs to those addresses\n",
    "- unspent : (address1, address2, etc) -> unspent outputs to those addresses\n",
    "- fetchtx : (txhash) -> tx if present\n",
    "- pushtx : (hex or bin tx) -> tries to push to blockchain.info/pushtx"
   ]
  },
  {
   "cell_type": "markdown",
   "metadata": {},
   "source": [
    "### history\n",
    "retrieve address history (\n",
    "see [16Z...](https://blockexplorer.com/address/16ZcFrSEAWFQF5md8yY65J9rHzLABSQCkA)\n",
    "and [16d...](https://blockexplorer.com/address/16dFg8Mu2z8TsWJjkzbncm7User2E7GwYh)\n",
    "for comparison)\n"
   ]
  },
  {
   "cell_type": "code",
   "execution_count": 43,
   "metadata": {
    "collapsed": false
   },
   "outputs": [
    {
     "data": {
      "text/plain": [
       "[{'address': '16ZcFrSEAWFQF5md8yY65J9rHzLABSQCkA',\n",
       "  'block_height': 476416,\n",
       "  'output': '1bed615aa35a8852c3bd746c0eb647f0f193a6ead7c32bd6f2a707ad8f90da58:1',\n",
       "  'spend': 'c5f1961c15e63225e16dc933d569cabeacd7669d31f92659afeb063a946bf9f5:239',\n",
       "  'value': 4375000},\n",
       " {'address': '16ZcFrSEAWFQF5md8yY65J9rHzLABSQCkA',\n",
       "  'block_height': 477838,\n",
       "  'output': 'fbf04f76e02d7c7b7acf6329a769695ee10d07f4d7ab407f8e4e2788a9971dd9:1',\n",
       "  'spend': '99ff7f55b7c0ae5bdbae783c1ad5aa26b1520542d5194575514382662441d8aa:267',\n",
       "  'value': 2236000}]"
      ]
     },
     "execution_count": 43,
     "metadata": {},
     "output_type": "execute_result"
    }
   ],
   "source": [
    "addr16Z=\"16ZcFrSEAWFQF5md8yY65J9rHzLABSQCkA\"\n",
    "addr16d=\"16dFg8Mu2z8TsWJjkzbncm7User2E7GwYh\"\n",
    "bc.history(addr16Z)"
   ]
  },
  {
   "cell_type": "code",
   "execution_count": 44,
   "metadata": {
    "collapsed": false
   },
   "outputs": [],
   "source": [
    "#bc.history(addr16d)"
   ]
  },
  {
   "cell_type": "code",
   "execution_count": 45,
   "metadata": {
    "collapsed": false
   },
   "outputs": [],
   "source": [
    "#bc.history(addr16Z, addr16d)"
   ]
  },
  {
   "cell_type": "markdown",
   "metadata": {},
   "source": [
    "### unspent\n",
    "list unspent transaction output (compare\n",
    "[152...](https://blockexplorer.com/address/152f1muMCNa7goXYhYAQC61hxEgGacmncB)\n",
    ")"
   ]
  },
  {
   "cell_type": "code",
   "execution_count": 50,
   "metadata": {
    "collapsed": false
   },
   "outputs": [],
   "source": [
    "addr152=\"152f1muMCNa7goXYhYAQC61hxEgGacmncB\"\n",
    "#bc.unspent(addr152) # Python 3 error"
   ]
  },
  {
   "cell_type": "code",
   "execution_count": 48,
   "metadata": {
    "collapsed": false
   },
   "outputs": [
    {
     "data": {
      "text/plain": [
       "[{'output': 'c96f8b6837f70ebab6a664de71b00281ec7847ac837b807534df71b973a58c16:10',\n",
       "  'value': 361444476},\n",
       " {'output': '6c7c27ca3f283c1632069145d5b288b20eb72b400ea83951a3925474433e1834:10',\n",
       "  'value': 436366876},\n",
       " {'output': 'dadfff2deb9615605547afbb6a68cc44db360c2a7d4194b61cdd3b8b59918921:10',\n",
       "  'value': 474327993},\n",
       " {'output': '5a627e8200e1366332334711043bf25d9f020196b3506e033b26df441b8a1782:10',\n",
       "  'value': 510775161},\n",
       " {'output': 'c05751b782aa88daaaa8f95e96544e1495636222ff6eaf8434f6ab19be9cf6f5:10',\n",
       "  'value': 474245816},\n",
       " {'output': '4b907b5e860283905795c3683639b52ea90d535d3dbdaa9d11eb37325b1ef2b2:10',\n",
       "  'value': 561099431},\n",
       " {'output': 'a63ff1a0674325962a6bbf98a313691efcf7efdea3a12e84f004bcd51e76d7e6:10',\n",
       "  'value': 389661458},\n",
       " {'output': '09e03a5cfbda664479a0b14366a1eea57becc8fae33b91e66d89951ab0817288:10',\n",
       "  'value': 481477386}]"
      ]
     },
     "execution_count": 48,
     "metadata": {},
     "output_type": "execute_result"
    }
   ],
   "source": [
    "bc.unspent(addr152, source='blockr')"
   ]
  },
  {
   "cell_type": "markdown",
   "metadata": {},
   "source": [
    "### fetchtx\n",
    "fetch transaction (see\n",
    "[2342...](https://blockexplorer.com/tx/2342ad09d6531d4ce8b8eb835ea37359025bcefea494ea865046d5ff98f10bfa) for comparison)"
   ]
  },
  {
   "cell_type": "code",
   "execution_count": null,
   "metadata": {
    "collapsed": false
   },
   "outputs": [],
   "source": [
    "txf = bc.fetchtx(\"2342ad09d6531d4ce8b8eb835ea37359025bcefea494ea865046d5ff98f10bfa\")\n",
    "txf.decode()"
   ]
  },
  {
   "cell_type": "code",
   "execution_count": null,
   "metadata": {
    "collapsed": false
   },
   "outputs": [],
   "source": [
    "bc.deserialize(txf.decode())"
   ]
  },
  {
   "cell_type": "markdown",
   "metadata": {},
   "source": [
    "### pushtx\n",
    "pushed a transaction to the chain -- TODO"
   ]
  },
  {
   "cell_type": "markdown",
   "metadata": {},
   "source": [
    "## JSON helper functions\n",
    "- slice : (json list, start, end) -> given slice of the list\n",
    "- count : (json list) -> number of elements\n",
    "- sum : (json list) -> sum of all values\n",
    "- access : (json list/object, prop) -> desired property of that json object\n",
    "- multiaccess : (json list, prop) -> like access, but mapped across each list element"
   ]
  },
  {
   "cell_type": "markdown",
   "metadata": {},
   "source": [
    "### slice\n",
    "slices a python list (that is representing a json list)"
   ]
  },
  {
   "cell_type": "code",
   "execution_count": null,
   "metadata": {
    "collapsed": false
   },
   "outputs": [],
   "source": [
    "pylist = [0,1,2,3,4,5]\n",
    "jslist = json.dumps(pylist)\n",
    "pylist, jslist"
   ]
  },
  {
   "cell_type": "code",
   "execution_count": null,
   "metadata": {
    "collapsed": false
   },
   "outputs": [],
   "source": [
    "bc.slice(pylist, 2, 5)"
   ]
  },
  {
   "cell_type": "code",
   "execution_count": null,
   "metadata": {
    "collapsed": false
   },
   "outputs": [],
   "source": [
    "bc.slice(pylist, 2, 2)"
   ]
  },
  {
   "cell_type": "markdown",
   "metadata": {},
   "source": [
    "### count\n",
    "number of elements in a python list (that is representing a json list)"
   ]
  },
  {
   "cell_type": "code",
   "execution_count": null,
   "metadata": {
    "collapsed": false
   },
   "outputs": [],
   "source": [
    "bc.count(pylist)\n",
    "#bc.count(jslist)"
   ]
  },
  {
   "cell_type": "markdown",
   "metadata": {},
   "source": [
    "### sum\n",
    "sum of the elements in the list"
   ]
  },
  {
   "cell_type": "code",
   "execution_count": null,
   "metadata": {
    "collapsed": false
   },
   "outputs": [],
   "source": [
    "bc.sum(pylist)\n",
    "#bc.sum(jslist)"
   ]
  },
  {
   "cell_type": "markdown",
   "metadata": {
    "collapsed": false
   },
   "source": [
    "### access\n",
    "uniform access of lists / dicts using an index / key"
   ]
  },
  {
   "cell_type": "code",
   "execution_count": null,
   "metadata": {
    "collapsed": false
   },
   "outputs": [],
   "source": [
    "hist"
   ]
  },
  {
   "cell_type": "code",
   "execution_count": null,
   "metadata": {
    "collapsed": false
   },
   "outputs": [],
   "source": [
    "hist0 = bc.access(hist,0)\n",
    "hist0"
   ]
  },
  {
   "cell_type": "code",
   "execution_count": null,
   "metadata": {
    "collapsed": false
   },
   "outputs": [],
   "source": [
    "hist0a = bc.access(hist0,\"address\")\n",
    "hist0a"
   ]
  },
  {
   "cell_type": "markdown",
   "metadata": {
    "collapsed": true
   },
   "source": [
    "### multiaccess\n",
    "access the elements one level down in the list, returns list"
   ]
  },
  {
   "cell_type": "code",
   "execution_count": null,
   "metadata": {
    "collapsed": false
   },
   "outputs": [],
   "source": [
    "hista = bc.multiaccess(hist,\"address\")\n",
    "hista"
   ]
  },
  {
   "cell_type": "code",
   "execution_count": null,
   "metadata": {
    "collapsed": false
   },
   "outputs": [],
   "source": [
    "\"1234\"[::-1]"
   ]
  },
  {
   "cell_type": "code",
   "execution_count": null,
   "metadata": {
    "collapsed": false
   },
   "outputs": [],
   "source": [
    "\"abc\".encode('hex')"
   ]
  },
  {
   "cell_type": "code",
   "execution_count": null,
   "metadata": {
    "collapsed": true
   },
   "outputs": [],
   "source": []
  }
 ],
 "metadata": {
  "kernelspec": {
   "display_name": "Python 3",
   "language": "python",
   "name": "python3"
  },
  "language_info": {
   "codemirror_mode": {
    "name": "ipython",
    "version": 3
   },
   "file_extension": ".py",
   "mimetype": "text/x-python",
   "name": "python",
   "nbconvert_exporter": "python",
   "pygments_lexer": "ipython3",
   "version": "3.4.3"
  }
 },
 "nbformat": 4,
 "nbformat_minor": 0
}
